{
 "cells": [
  {
   "cell_type": "markdown",
   "metadata": {},
   "source": [
    "# Project: polysolve in YRoots\n",
    "\n",
    "This notebook is a blank slate for you to write in.  Feel free to include figures (don't forget to add/commit them to your repository) and examples.  You can change the kernel (from `Python 3`; see upper right) if the open source project you're writing about does not use Python.  You can write from the prompts below or delete all the cells and start fresh.  Note that Git will always contain your history.\n",
    "\n",
    "You can run shell commands:"
   ]
  },
  {
   "cell_type": "code",
   "execution_count": 1,
   "metadata": {},
   "outputs": [
    {
     "name": "stdout",
     "output_type": "stream",
     "text": [
      "project.ipynb  README.md\n"
     ]
    }
   ],
   "source": [
    "! ls"
   ]
  },
  {
   "cell_type": "markdown",
   "metadata": {},
   "source": [
    "and include code snippets\n",
    "\n",
    "```c\n",
    "double square(double x) {\n",
    "    return x*x;\n",
    "}\n",
    "```\n",
    "or code cells"
   ]
  },
  {
   "cell_type": "code",
   "execution_count": 2,
   "metadata": {},
   "outputs": [
    {
     "name": "stdout",
     "output_type": "stream",
     "text": [
      "square(3) = 9\n"
     ]
    }
   ],
   "source": [
    "def square(x):\n",
    "    return x*x\n",
    "\n",
    "print(f'square(3) = {square(3)}')"
   ]
  },
  {
   "cell_type": "markdown",
   "metadata": {},
   "source": [
    "The following prompts may be useful, but you don't have to use them.\n",
    "## About the method\n",
    "\n",
    "*How does the method relate to concepts we've covered in class. You're writing for your fellow classmates so try to make it understandable to them. Why is the method used in this context? Can you explain why it's preferred over some alternative in this context?*\n",
    "\n",
    "The method `yr.polysolve`, found in polyroots.py (as `solve`), is a rootfinding method that finds the all roots of a system of polynomials, which includes real and complex roots. \n",
    "\n",
    "Root finding was the first topic covered in the course. This method uses Chebyshev polynomials as a basis in order to find the roots of polynomials. The method has controls for condition numbers and addresses issues of stability in its formulation. The approach to forming reduced matrices, the Macaulay approach (discussed in the last section), has stability issues. While the Macaulay approach was not specifically targeted in this class, stability in general was covered in this course. \n",
    "\n",
    "From a high level, this package functions by transforming algebraic expressions into matrices. Finding the eigenvalues of the matrices will translate back into the roots of the original polynomials. However, the method used to find the roots is different than what we covered for rootfinding methods in class. The method investigated here is based on the work of Moller and Stetter.\n",
    "\n",
    "Moller-Stetter is a refinement of previous techniques for rootfinding in its approach to eigenvectors. It handles duplicate zeros/eigenvectors. Previous methods struggled with duplicate roots. The advantage of the Moller-Stetter approach to solving systems is the handling of zeros when it is possible for \"near-multiple zeros\" to be mishandled. The [original paper](https://www.researchgate.net/publication/225136992_Multivariate_polynomial_equations_with_multiple_zeros_solved_by_matrix_eigenproblems) for the Moller-Stetter approach details that recognizing when near-multiple zeros are genuine multiple zeros, since small perterbations can result in genuine multiple zeros be represented as near-multiple zeros. \n",
    "\n",
    "### Questions you have about the method\n",
    "\n",
    "* You can list questions you haven't been able to answer. Perhaps your peers will be able to help answer them. Jed will address some questions in class.\n",
    "\n",
    "\n",
    "\n",
    "## About the software\n",
    "\n",
    "*Link to the repository. What does the software package do (at a high level)? Who develops it? Who uses it? What language is it written in and what language(s) can it be called from? If there are figures of its architecture, use, or products (e.g., from the docs), you're welcome to include them here.*\n",
    "\n",
    "Link to the repository: https://github.com/tylerjarvis/RootFinding\n",
    "\n",
    "YRoots is a numerical rootfinding package with the intent of finding all the real roots of a system of equations in a compact interval in the domain of all real numbers. It is written in Python and can be installed locally and called in Python 3.5 and up. \n",
    "\n",
    "The package is hosted by tylerjarvis, who is the director of the Applied and Computational Mathematics program and a professor of mathematics at Brigham Young University. It appears to have been developed by him and students at BYU. It appears to be a multi-year project and presumably is used by students in the program. \n",
    "\n",
    "\n",
    "\n",
    "## Method as it appears in the software\n",
    "\n",
    "*What role does the method play in the software? How does one call it (perhaps via a higher level interface that uses the method)? Are there particular performance concerns that went into its use? How expensive is it? Can you express performance in terms that are relevant to a user? How about accuracy, conditioning, or stability in the chosen formulation?*\n",
    "\n",
    "`polysolve` is one of several rootfinding methods in the package. It is called as `yr.polysolve([list of polynomial objects] (required), optional: MSmatrix=0, eigvals=True, verbose=False, return_all_roots=True, max_cond_num=1.e6, macaulay_zero_tol=1.e-12,method='svd' )`\n",
    "\n",
    "The list of optional variables are shown with the recommended, most robust values for most systems. The polynomial objects must be set up beforehand according to the rules of the package, with two options: `Multipower` or `MultiCheb`, which indicate that they are in the power or Chebyshev basis. The n-degree polynomials are represented as an n-dimensional matrix. Here is an example of how to construct a Multipower object:\n",
    "\n",
    "$f(x) = 5x^3 + 4xy^2 + 3x^2 + 2y^2 + 1$\n",
    "\n",
    "\n",
    "```c\n",
    "coeff = np.zeros((4,4)) #4x4 matrix because it's a degree 3 polynomial\n",
    "coeff[3,0] = 5\n",
    "coeff[1,2] = 4\n",
    "coeff[2,0] = 3\n",
    "coeff[0,2] = 2\n",
    "coeff[0,0] = 1\n",
    "f = yr.MultiPower(coeff)\n",
    "```\n",
    "\n",
    "`polysolve` is an alternative way of solving systems of equations in YRoots. It is for when the system of equations only contains polynomials. The reason for including it as an alternative is because for systems of low degree polynomials, it offers significantly better performance. However, it only guarantees stability of solutions when the absolute value of the root is less than 1. The stability issue is not a problem in the larger, more general `solve` function in the package. The user can manipulate the maximum condition number - if in the course of calculating the reduced Macaulay matrix the condition number becomes too high, the solver will throw an error. \n",
    "\n",
    "Macaulay matrices come from a method of solving systems of equations proposed by Macaulay. Apparently Macaulay's original formulation was unstable. It is unclear if this package has been modified from Macaulay's original formulation to be stable. Macaulay is discussed some in [this paper]( https://www.ams.org/journals/mcom/2005-74-249/S0025-5718-04-01722-3/S0025-5718-04-01722-3.pdf) which proposes how to modify Macaulay's method to improve stability. Macaulay's method was first proposed in 1902 in [this paper](https://londmathsoc.onlinelibrary.wiley.com/doi/abs/10.1112/plms/s1-35.1.3).\n",
    "\n",
    "The function also makes use of Moller-Stetter matrices. The method was first proposed in [this paper](https://www.researchgate.net/publication/225136992_Multivariate_polynomial_equations_with_multiple_zeros_solved_by_matrix_eigenproblems) in 1994 to address several of the deficiencies in classic polynomial rootfinding.\n",
    "\n",
    "These are several methods that have not been discussed in this course, but might be interesting to study further.\n",
    "\n",
    "### Open questions\n",
    "\n",
    "* Any open questions you would like to discuss or get help answering?\n"
   ]
  },
  {
   "cell_type": "code",
   "execution_count": null,
   "metadata": {},
   "outputs": [],
   "source": []
  }
 ],
 "metadata": {
  "kernelspec": {
   "display_name": "Python 3",
   "language": "python",
   "name": "python3"
  },
  "language_info": {
   "codemirror_mode": {
    "name": "ipython",
    "version": 3
   },
   "file_extension": ".py",
   "mimetype": "text/x-python",
   "name": "python",
   "nbconvert_exporter": "python",
   "pygments_lexer": "ipython3",
   "version": "3.7.3"
  }
 },
 "nbformat": 4,
 "nbformat_minor": 4
}
